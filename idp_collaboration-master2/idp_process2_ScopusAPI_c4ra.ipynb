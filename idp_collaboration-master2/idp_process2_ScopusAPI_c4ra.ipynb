{
 "cells": [
  {
   "cell_type": "markdown",
   "metadata": {},
   "source": [
    "<h2> 異分野共著　process II </h2>"
   ]
  },
  {
   "cell_type": "markdown",
   "metadata": {},
   "source": [
    "<h3> 4. 全著者IDそれぞれに専門分野を割り当てる </h3>"
   ]
  },
  {
   "cell_type": "code",
   "execution_count": null,
   "metadata": {},
   "outputs": [],
   "source": [
    "#! Python3\n",
    "# -*- coding: utf-8 -*-\n",
    "import pandas as pd\n",
    "import requests\n",
    "import xml.etree.ElementTree as ET\n",
    "import urllib\n",
    "from urllib.error import URLError, HTTPError\n",
    "\n",
    "# API Key   \n",
    "myAPIkey = 'XXXXXXXXXXXXXXXXXXXXXXXXXXXXXXXXXX'\n",
    "myInsttoken = 'XXXXXXXXXXXXXXXXXXXXXXXXXXXXXXXXXX'"
   ]
  },
  {
   "cell_type": "code",
   "execution_count": null,
   "metadata": {
    "scrolled": true
   },
   "outputs": [],
   "source": [
    "# 調べたい Author \n",
    "uniqueaIds = pd.read_csv('UniqueAuthorIdsList.csv', dtype= 'object')\n",
    "uniqueaIds['ID'] = \"'\" + uniqueaIds['Author ID'] + \"'\"\n",
    "\n",
    "# APIのひな型\n",
    "api =  'https://api.elsevier.com/content/author/author_id/{sid}?apiKey={key}&insttoken={key2}'\n",
    "\n",
    "author_asjc27 = []\n",
    "#4-1. 著者IDから分野（ASJC, 27分野） codeを抽出（API）\n",
    "for i, number in uniqueaIds.iterrows():\n",
    "    # APIのURLを得る\n",
    "    aid = number['Author ID']\n",
    "    print(\"AID=\",aid)\n",
    "#        url = api.format(sid=aid, key=myAPIkey)\n",
    "    url = api.format(sid=aid, key=myAPIkey, key2=myInsttoken)\n",
    "\n",
    "    print(url)\n",
    "    print('Scopus Author ID'+ str(i) + ' : ' + str(aid) )\n",
    "\n",
    "    # 実際にAPIにリクエストを送信して結果を取得する\n",
    "    try:\n",
    "        req = urllib.request.Request(url)\n",
    "        with urllib.request.urlopen(req) as response:\n",
    "            r = requests.get(url)\n",
    "    except URLError as e:\n",
    "        author27 = [aid, 0, 0, 0]\n",
    "        print(author27)\n",
    "        author_asjc27.append(author27)\n",
    "        if hasattr(e, 'reason'):\n",
    "            print('Reason: ', e.reason)\n",
    "            #APIkeyの制限超えたらリストを保存して止まる\n",
    "            if e.reason == 'Too Many Requests':\n",
    "                break\n",
    "        elif hasattr(e, 'code'):\n",
    "            print('Error code: ', e.code)\n",
    "    else:\n",
    "        text = r.text.encode('utf-8')\n",
    "        data = ET.fromstring(text)\n",
    "\n",
    "        # 結果を出力 (Author id, subject-areas)\n",
    "        #  Defined Author ID\n",
    "        author_id = data[0][1].text.replace('AUTHOR_ID:','')\n",
    "\n",
    "        # 論文数が5本以下ならスキップ\n",
    "        try:\n",
    "            dc = int(data.find('.//document-count').text)\n",
    "        except:\n",
    "            dc = 0\n",
    "\n",
    "        if dc < 5:\n",
    "            asjc27 = 0\n",
    "            author27 = [aid, author_id, dc, asjc27]\n",
    "        else:\n",
    "            #author-profileの下から、分野のコードcode(4桁のうち上位2桁)とその頻度frequencyを抽出\n",
    "            asjc = []\n",
    "            asjc_list = []\n",
    "            for et in data.findall('.//author-profile/classificationgroup/classifications[@type=\"ASJC\"]/classification'):\n",
    "                code = int(et.text[:2])\n",
    "                freqs = int(et.get('frequency'))\n",
    "                asjc = [code, freqs]\n",
    "                asjc_list.append(asjc)\n",
    "\n",
    "            #4-2. 一番多い分野を特定, 著者の分野を決定\n",
    "            asjcdf = pd.DataFrame(asjc_list, columns=['code2', 'freqs'])\n",
    "            asjcsort = asjcdf.groupby('code2',as_index=False)['freqs'].sum()\n",
    "            asjcsort.sort_values(by='freqs', ascending=False, inplace = True)\n",
    "            asjc27 = asjcsort.iat[0,0]\n",
    "            author27 = [aid, author_id, dc, asjc27]\n",
    "        print(author27)\n",
    "        author_asjc27.append(author27)\n",
    "    \n",
    "#4-4. listを作成\n",
    "author_asjc27_df = pd.DataFrame(author_asjc27, columns=['Scopus Author ID', 'responce ID', 'document count', 'asjc27'])\n",
    "author_asjc27_df.to_csv('AuthorIDwithasjc27List.csv', index = False)"
   ]
  }
 ],
 "metadata": {
  "kernelspec": {
   "display_name": "Python 3",
   "language": "python",
   "name": "python3"
  },
  "language_info": {
   "codemirror_mode": {
    "name": "ipython",
    "version": 3
   },
   "file_extension": ".py",
   "mimetype": "text/x-python",
   "name": "python",
   "nbconvert_exporter": "python",
   "pygments_lexer": "ipython3",
   "version": "3.8.5"
  }
 },
 "nbformat": 4,
 "nbformat_minor": 2
}
